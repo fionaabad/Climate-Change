{
 "cells": [
  {
   "cell_type": "code",
   "execution_count": 1,
   "metadata": {},
   "outputs": [],
   "source": [
    "import pandas as pd"
   ]
  },
  {
   "cell_type": "code",
   "execution_count": 4,
   "metadata": {},
   "outputs": [],
   "source": [
    "df = pd.read_csv('cleanirradatio.csv')"
   ]
  },
  {
   "cell_type": "code",
   "execution_count": 5,
   "metadata": {},
   "outputs": [
    {
     "data": {
      "text/html": [
       "<div>\n",
       "<style scoped>\n",
       "    .dataframe tbody tr th:only-of-type {\n",
       "        vertical-align: middle;\n",
       "    }\n",
       "\n",
       "    .dataframe tbody tr th {\n",
       "        vertical-align: top;\n",
       "    }\n",
       "\n",
       "    .dataframe thead th {\n",
       "        text-align: right;\n",
       "    }\n",
       "</style>\n",
       "<table border=\"1\" class=\"dataframe\">\n",
       "  <thead>\n",
       "    <tr style=\"text-align: right;\">\n",
       "      <th></th>\n",
       "      <th>julian_day</th>\n",
       "      <th>temperature</th>\n",
       "      <th>date</th>\n",
       "    </tr>\n",
       "  </thead>\n",
       "  <tbody>\n",
       "    <tr>\n",
       "      <th>0</th>\n",
       "      <td>2442283</td>\n",
       "      <td>1361.0813</td>\n",
       "      <td>1974-08-23 12:00:00</td>\n",
       "    </tr>\n",
       "    <tr>\n",
       "      <th>1</th>\n",
       "      <td>2442284</td>\n",
       "      <td>1361.2541</td>\n",
       "      <td>1974-08-24 12:00:00</td>\n",
       "    </tr>\n",
       "    <tr>\n",
       "      <th>2</th>\n",
       "      <td>2442285</td>\n",
       "      <td>1361.0907</td>\n",
       "      <td>1974-08-25 12:00:00</td>\n",
       "    </tr>\n",
       "    <tr>\n",
       "      <th>3</th>\n",
       "      <td>2442286</td>\n",
       "      <td>1361.1308</td>\n",
       "      <td>1974-08-26 12:00:00</td>\n",
       "    </tr>\n",
       "    <tr>\n",
       "      <th>4</th>\n",
       "      <td>2442287</td>\n",
       "      <td>1361.1251</td>\n",
       "      <td>1974-08-27 12:00:00</td>\n",
       "    </tr>\n",
       "    <tr>\n",
       "      <th>...</th>\n",
       "      <td>...</td>\n",
       "      <td>...</td>\n",
       "      <td>...</td>\n",
       "    </tr>\n",
       "    <tr>\n",
       "      <th>17847</th>\n",
       "      <td>2460130</td>\n",
       "      <td>1361.7703</td>\n",
       "      <td>2023-07-04 12:00:00</td>\n",
       "    </tr>\n",
       "    <tr>\n",
       "      <th>17848</th>\n",
       "      <td>2460131</td>\n",
       "      <td>1361.6242</td>\n",
       "      <td>2023-07-05 12:00:00</td>\n",
       "    </tr>\n",
       "    <tr>\n",
       "      <th>17849</th>\n",
       "      <td>2460132</td>\n",
       "      <td>1361.5075</td>\n",
       "      <td>2023-07-06 12:00:00</td>\n",
       "    </tr>\n",
       "    <tr>\n",
       "      <th>17850</th>\n",
       "      <td>2460133</td>\n",
       "      <td>1361.2588</td>\n",
       "      <td>2023-07-07 12:00:00</td>\n",
       "    </tr>\n",
       "    <tr>\n",
       "      <th>17851</th>\n",
       "      <td>2460134</td>\n",
       "      <td>1361.1048</td>\n",
       "      <td>2023-07-08 12:00:00</td>\n",
       "    </tr>\n",
       "  </tbody>\n",
       "</table>\n",
       "<p>17852 rows × 3 columns</p>\n",
       "</div>"
      ],
      "text/plain": [
       "       julian_day  temperature                date\n",
       "0         2442283    1361.0813 1974-08-23 12:00:00\n",
       "1         2442284    1361.2541 1974-08-24 12:00:00\n",
       "2         2442285    1361.0907 1974-08-25 12:00:00\n",
       "3         2442286    1361.1308 1974-08-26 12:00:00\n",
       "4         2442287    1361.1251 1974-08-27 12:00:00\n",
       "...           ...          ...                 ...\n",
       "17847     2460130    1361.7703 2023-07-04 12:00:00\n",
       "17848     2460131    1361.6242 2023-07-05 12:00:00\n",
       "17849     2460132    1361.5075 2023-07-06 12:00:00\n",
       "17850     2460133    1361.2588 2023-07-07 12:00:00\n",
       "17851     2460134    1361.1048 2023-07-08 12:00:00\n",
       "\n",
       "[17852 rows x 3 columns]"
      ]
     },
     "execution_count": 5,
     "metadata": {},
     "output_type": "execute_result"
    }
   ],
   "source": [
    "import datetime\n",
    "import pandas as pd\n",
    "# Función para convertir días julianos a fechas\n",
    "def julian_to_date(julian_day):\n",
    "    base_date = datetime.datetime(1858, 11, 17)  # Fecha base para los días julianos\n",
    "    delta = datetime.timedelta(days=julian_day - 2400000.5)  # Calcular el desplazamiento\n",
    "    return base_date + delta\n",
    "# Aplicar la función a la columna 'julian_day' y crear una nueva columna 'date'\n",
    "df['date'] = df['julian_day'].apply(julian_to_date)\n",
    "# Mostrar el DataFrame resultante\n",
    "df"
   ]
  },
  {
   "cell_type": "code",
   "execution_count": null,
   "metadata": {},
   "outputs": [],
   "source": [
    "df.to_csv('irradiation.csv', index = False)"
   ]
  }
 ],
 "metadata": {
  "kernelspec": {
   "display_name": "Python 3",
   "language": "python",
   "name": "python3"
  },
  "language_info": {
   "codemirror_mode": {
    "name": "ipython",
    "version": 3
   },
   "file_extension": ".py",
   "mimetype": "text/x-python",
   "name": "python",
   "nbconvert_exporter": "python",
   "pygments_lexer": "ipython3",
   "version": "3.11.4"
  },
  "orig_nbformat": 4
 },
 "nbformat": 4,
 "nbformat_minor": 2
}
